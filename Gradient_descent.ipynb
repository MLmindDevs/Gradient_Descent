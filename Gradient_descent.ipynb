{
 "cells": [
  {
   "cell_type": "markdown",
   "metadata": {},
   "source": [
    "# Gradient Descent Implementation\n",
    "\n",
    "### Author: Nick Koutroumpinis, ML|mind Software Development \n",
    "\n",
    "In this tutorial we'll implement one of the most famous optimization techniques called Gradient Descent all the way from scratch... "
   ]
  },
  {
   "cell_type": "markdown",
   "metadata": {},
   "source": [
    "\n",
    "\n",
    "Imagine a dataset about <b>bikers</b> we have a feature that represents their biking activity.<br> Our goal is to <b>predict</b> the calories that they lost throughout their activity which is the second variable.. our data looks like this.. "
   ]
  },
  {
   "cell_type": "code",
   "execution_count": 1,
   "metadata": {
    "collapsed": true
   },
   "outputs": [],
   "source": [
    "import numpy as np\n",
    "import matplotlib.pyplot as plt\n",
    "import pandas as pd\n",
    "%matplotlib inline"
   ]
  },
  {
   "cell_type": "code",
   "execution_count": 2,
   "metadata": {},
   "outputs": [
    {
     "name": "stdout",
     "output_type": "stream",
     "text": [
      "          act        cals\n",
      "0   53.426804   68.777596\n",
      "1   61.530358   62.562382\n",
      "2   47.475640   71.546632\n",
      "3   59.813208   87.230925\n",
      "4   55.142188   78.211518\n",
      "5   52.211797   79.641973\n",
      "6   39.299567   59.171489\n",
      "7   48.105042   75.331242\n",
      "8   52.550014   71.300880\n",
      "9   45.419730   55.165677\n",
      "10  54.351635   82.478847\n",
      "11  44.164049   62.008923\n",
      "12  58.168471   75.392870\n",
      "13  56.727208   81.436192\n",
      "14  48.955889   60.723602\n",
      "15  44.687196   82.892504\n",
      "16  60.297327   97.379897\n",
      "17  45.618644   48.847153\n",
      "18  38.816818   56.877213\n",
      "19  66.189817   83.878565\n",
      "20  65.416052  118.591217\n",
      "21  47.481209   57.251819\n",
      "22  41.575643   51.391744\n",
      "23  51.845187   75.380652\n",
      "24  59.370822   74.765564\n",
      "25  57.310003   95.455053\n",
      "26  63.615561   95.229366\n",
      "27  46.737619   79.052406\n",
      "28  50.556760   83.432071\n",
      "29  52.223996   63.358790\n",
      "..        ...         ...\n",
      "69  31.588117   50.392670\n",
      "70  53.660932   63.642399\n",
      "71  46.682229   72.247251\n",
      "72  43.107820   57.812513\n",
      "73  70.346076  104.257102\n",
      "74  44.492856   86.642020\n",
      "75  57.504533   91.486778\n",
      "76  36.930077   55.231661\n",
      "77  55.805733   79.550437\n",
      "78  38.954769   44.847124\n",
      "79  56.901215   80.207523\n",
      "80  56.868901   83.142750\n",
      "81  34.333125   55.723489\n",
      "82  59.049741   77.634183\n",
      "83  57.788224   99.051415\n",
      "84  54.282329   79.120646\n",
      "85  51.088720   69.588898\n",
      "86  50.282836   69.510503\n",
      "87  44.211742   73.687564\n",
      "88  38.005488   61.366905\n",
      "89  32.940480   67.170656\n",
      "90  53.691640   85.668203\n",
      "91  68.765734  114.853871\n",
      "92  46.230966   90.123572\n",
      "93  68.319361   97.919821\n",
      "94  50.030174   81.536991\n",
      "95  49.239765   72.111832\n",
      "96  50.039576   85.232007\n",
      "97  48.149859   66.224958\n",
      "98  25.128485   53.454394\n",
      "\n",
      "[99 rows x 2 columns]\n"
     ]
    }
   ],
   "source": [
    "data = pd.read_csv(\"data.csv\")\n",
    "data.columns = ['act', 'cals']\n",
    "print(data)"
   ]
  },
  {
   "cell_type": "markdown",
   "metadata": {},
   "source": [
    "Now for the second part we have to do some preprocessing in order to get our feature and our label. I'll do it in the most simplistic way using the pandas library.<br>There are more simple ways than this but this is the easiest and most understandable "
   ]
  },
  {
   "cell_type": "code",
   "execution_count": 3,
   "metadata": {
    "collapsed": true
   },
   "outputs": [],
   "source": [
    "def preprocess(data):\n",
    "    feature = data['act'].values.tolist()\n",
    "    target = data['cals'].values.tolist()\n",
    "    \n",
    "    return feature, target"
   ]
  },
  {
   "cell_type": "markdown",
   "metadata": {},
   "source": [
    "We'll also implement a function to get our points in a 2d array."
   ]
  },
  {
   "cell_type": "code",
   "execution_count": 5,
   "metadata": {
    "collapsed": true
   },
   "outputs": [],
   "source": [
    "def get_points(data):\n",
    "    feature, target = preprocess(data)\n",
    "    points = []\n",
    "    \n",
    "    for f, t in zip(feature, target):\n",
    "        points.append([f,t])\n",
    "        \n",
    "    return np.array(points)"
   ]
  },
  {
   "cell_type": "markdown",
   "metadata": {},
   "source": [
    "And furthermore we are gonna visualize our points in order to get a good idea of how our data looks like in a two dimensional space.. <br> <b>Tip</b>: A good data scientist must always know how his data looks like."
   ]
  },
  {
   "cell_type": "code",
   "execution_count": 4,
   "metadata": {},
   "outputs": [
    {
     "data": {
      "image/png": "[encoded data removed]",
      "text/plain": [
       "<matplotlib.figure.Figure at 0x2a8b6da5b00>"
      ]
     },
     "metadata": {},
     "output_type": "display_data"
    }
   ],
   "source": [
    "def plot_it(data):\n",
    "    feature, target = preprocess(data)\n",
    "    plt.scatter(feature, target)\n",
    "    plt.show()\n",
    "\n",
    "plot_it(data)"
   ]
  },
  {
   "cell_type": "markdown",
   "metadata": {},
   "source": [
    "Clearly we can see some corelation in our data. So now for the part we are all here for... <br>\n",
    "Let's talk some more about <b> Gradient Descent </b>"
   ]
  },
  {
   "cell_type": "markdown",
   "metadata": {},
   "source": [
    "To get there, firstly we have to talk about some algebra. <br> Our goal is to draw a line on the points above and fit on that line as many points as we can. <br> We know from algebra that the equation of a straight line is <img src=\"https://latex.codecogs.com/gif.latex?y&space;=&space;mx&space;&plus;&space;b\" title=\"y = mx + b\" />\n",
    "\n",
    "Graphicaly a straight line is like this..<br> <br> \n",
    "<img src=\"https://www.mathsisfun.com/data/images/y-mxpb-graph.gif\" title=\"y = mx + b\" />\n",
    "\n",
    "<br>So, we can actually understand that we have to find the optimal 'm' and optimal 'b' in order to draw the best line that fits most of our points. <br>\n",
    "The process to do this is called <b> Gradient Descent </b> and it's one of the most popular optimization techniques of our time."
   ]
  },
  {
   "cell_type": "markdown",
   "metadata": {},
   "source": [
    "In order to do that we'll need an error metric.<br> We'll use the sum of squared errors or <b>SSE</b> <img src=\"http://file.scirp.org/Html/3-1680093/af56ab8f-0660-44e8-bbff-29187940442b.jpg\" title=\"SSE\" />. <br>We can define this error metric as a measure of closeness where Y is our already known values (target variable) and Y hat is our predicted (m*x + b) values."
   ]
  },
  {
   "cell_type": "markdown",
   "metadata": {},
   "source": [
    "Let's go to the part where i explain how do we get the best fit... It's easy.. We get the best fit when our cost function (error metric) is minimized to it's full potential. <img src=\"https://iamtrask.github.io/img/sgd_optimal.png\" title=\"sgd\" /> To do that we have to calculate the partial derivative of our variables with the purpose to find the optimal values for them. Which means we are searching where our cost function has the lowest result. This is the value we'll take as our m (also doing the same for b). The size of the steps we do is called the learning rate,  and we want this to be a small number so we don't lose the minima because of the big steps we are doing.\n",
    "<img src=\"http://home.agh.edu.pl/~horzyk/lectures/ai/GradientDescentOfErrorFunction.jpg\" title=\"sgd\" />\n",
    "\n",
    "Above you can think of w as our m variable. Let's code it up... \n",
    "\n",
    "<b>Hint: </b>Watch out for local minima... "
   ]
  },
  {
   "cell_type": "code",
   "execution_count": 6,
   "metadata": {
    "collapsed": true
   },
   "outputs": [],
   "source": [
    "def error(b, m, points):\n",
    "    total_error = 0\n",
    "    for i in range(0, len(points)): # iterate through our points\n",
    "        x = points[i, 0]\n",
    "        y = points[i, 1]\n",
    "        total_error += (y - (m * x + b)) ** 2  # SSE\n",
    "    return total_error / float(len(points))"
   ]
  },
  {
   "cell_type": "markdown",
   "metadata": {},
   "source": [
    "We got the error. Now we have to code a step function because as i said before we are doing really small steps every time in order to find our minima.<br> So, let's code the step gradient."
   ]
  },
  {
   "cell_type": "code",
   "execution_count": 67,
   "metadata": {
    "collapsed": true
   },
   "outputs": [],
   "source": [
    "def step_gradient(b_current, m_current, points, learningRate):\n",
    "    b_gradient = 0\n",
    "    m_gradient = 0\n",
    "    N = float(len(points))\n",
    "    for i in range(0, len(points)):\n",
    "        x = points[i, 0]\n",
    "        y = points[i, 1]\n",
    "        b_gradient += -(2/N) * (y - ((m_current * x) + b_current))  # calculate the partial derivative\n",
    "        m_gradient += -(2/N) * x * (y - ((m_current * x) + b_current)) # calculate the partial derivative\n",
    "    new_b = b_current - (learningRate * b_gradient) # adjustments to our values since we got the new gradient\n",
    "    new_m = m_current - (learningRate * m_gradient)\n",
    "    return [new_b, new_m] # return the new values of this step"
   ]
  },
  {
   "cell_type": "markdown",
   "metadata": {},
   "source": [
    "Now let's implement the gradient descent runner function because we'll do this for a number of itterations"
   ]
  },
  {
   "cell_type": "code",
   "execution_count": 11,
   "metadata": {
    "collapsed": true
   },
   "outputs": [],
   "source": [
    "def gradient_descent_runner(points, starting_b, starting_m, learning_rate, num_iterations):\n",
    "    b = starting_b\n",
    "    m = starting_m\n",
    "    for i in range(num_iterations):\n",
    "        b, m = step_gradient(b, m, np.array(points), learning_rate)\n",
    "    return [b, m]"
   ]
  },
  {
   "cell_type": "markdown",
   "metadata": {},
   "source": [
    "And for the last part we'll implement a run function with it's only purpose to run our functional code."
   ]
  },
  {
   "cell_type": "code",
   "execution_count": 63,
   "metadata": {
    "collapsed": true
   },
   "outputs": [],
   "source": [
    "def run(data):\n",
    "    points = get_points(data)\n",
    "    learning_rate = 0.00001\n",
    "    initial_b = 0 # initial y-intercept guess\n",
    "    initial_m = 0 # initial slope guess\n",
    "    num_iterations = 1000\n",
    "    print(\"Starting gradient descent at b = {0}, m = {1}, error = {2}\".format(initial_b, initial_m, error(initial_b, initial_m, points)))\n",
    "    print(\"Running...\")\n",
    "    [b, m] = gradient_descent_runner(points, initial_b, initial_m, learning_rate, num_iterations)\n",
    "    print(\"After {0} iterations b = {1}, m = {2}, error = {3}\".format(num_iterations, b, m, error(b, m, points)))"
   ]
  },
  {
   "cell_type": "markdown",
   "metadata": {},
   "source": [
    "So let's run this baby and see what it can do.. "
   ]
  },
  {
   "cell_type": "code",
   "execution_count": 64,
   "metadata": {},
   "outputs": [
    {
     "name": "stdout",
     "output_type": "stream",
     "text": [
      "Starting gradient descent at b = 0, m = 0, error = 5611.166153823905\n",
      "Running...\n",
      "After 1000 iterations b = 0.03630798505774645, m = 1.4809270436632145, error = 111.05814974724268\n"
     ]
    }
   ],
   "source": [
    "run(data)"
   ]
  },
  {
   "cell_type": "markdown",
   "metadata": {},
   "source": [
    "So we can actually see some results out of this. <br> After 1000 itterations our error got to 111 from 5611 not too shabby right? To conclude the classic gradient descent implementation is more optimized than this. <br> The method i describe is just for learning purposes.... <br> Take your time to understand this, Thanks for your time <br> Cheers"
   ]
  }
 ],
 "metadata": {
  "kernelspec": {
   "display_name": "Python 3",
   "language": "python",
   "name": "python3"
  },
  "language_info": {
   "codemirror_mode": {
    "name": "ipython",
    "version": 3
   },
   "file_extension": ".py",
   "mimetype": "text/x-python",
   "name": "python",
   "nbconvert_exporter": "python",
   "pygments_lexer": "ipython3",
   "version": "3.5.3"
  }
 },
 "nbformat": 4,
 "nbformat_minor": 2
}
